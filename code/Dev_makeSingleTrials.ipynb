{
 "cells": [
  {
   "cell_type": "code",
   "execution_count": 39,
   "metadata": {},
   "outputs": [],
   "source": [
    "import os\n",
    "import pandas as pd\n",
    "import re"
   ]
  },
  {
   "cell_type": "code",
   "execution_count": 42,
   "metadata": {},
   "outputs": [],
   "source": [
    "task='mid'\n",
    "bidsdir='/data/projects/istart-data/bids'\n",
    "allfiles = [os.path.join(root,f) for root,dirs,files in os.walk(bidsdir) for f in files if \n",
    "            (('task-%s'%(task) in f))&(f.endswith('events.tsv'))]"
   ]
  },
  {
   "cell_type": "code",
   "execution_count": 54,
   "metadata": {},
   "outputs": [],
   "source": [
    "for f in allfiles:\n",
    "    sub=re.search('func/sub-(.*)_task',f).group(1)\n",
    "    task=task\n",
    "    run=re.search('run-(.*)_events',f).group(1)\n",
    "    OutDir='/data/projects/istart-mid/derivatives/fsl/EVfiles/sub-%s/SingleTrialEVs/run%s'%(sub,run)\n",
    "    os.makedirs(OutDir,exist_ok=True)\n",
    "    df=pd.read_csv(f,sep='\\t')\n",
    "    df=df[~df['trial_type'].str.contains('Con')]\n",
    "    df['mod']=1\n",
    "    df['trial']=df.index+1\n",
    "    for trial in df['trial']:\n",
    "        Single=df[df['trial']==trial]\n",
    "        Other=df[df['trial']!=trial]\n",
    "        \n",
    "        Single=Single[['onset','duration','mod']]\n",
    "        Other=Other[['onset','duration','mod']]\n",
    "        \n",
    "        Single.to_csv(OutDir+'/trialmodel-%s_estimage-single.tsv'%(trial),\n",
    "                      sep=\"\\t\",header=False,index=False)\n",
    "        Other.to_csv(OutDir+'/trialmodel-%s_estimage-other.tsv'%(trial),\n",
    "                     sep=\"\\t\",header=False,index=False)\n",
    "\n",
    "        \n"
   ]
  },
  {
   "cell_type": "code",
   "execution_count": 53,
   "metadata": {},
   "outputs": [
    {
     "data": {
      "text/html": [
       "<div>\n",
       "<style scoped>\n",
       "    .dataframe tbody tr th:only-of-type {\n",
       "        vertical-align: middle;\n",
       "    }\n",
       "\n",
       "    .dataframe tbody tr th {\n",
       "        vertical-align: top;\n",
       "    }\n",
       "\n",
       "    .dataframe thead th {\n",
       "        text-align: right;\n",
       "    }\n",
       "</style>\n",
       "<table border=\"1\" class=\"dataframe\">\n",
       "  <thead>\n",
       "    <tr style=\"text-align: right;\">\n",
       "      <th></th>\n",
       "      <th>onset</th>\n",
       "      <th>duration</th>\n",
       "      <th>mod</th>\n",
       "    </tr>\n",
       "  </thead>\n",
       "  <tbody>\n",
       "    <tr>\n",
       "      <th>49</th>\n",
       "      <td>446.367142</td>\n",
       "      <td>2.033339</td>\n",
       "      <td>1</td>\n",
       "    </tr>\n",
       "  </tbody>\n",
       "</table>\n",
       "</div>"
      ],
      "text/plain": [
       "         onset  duration  mod\n",
       "49  446.367142  2.033339    1"
      ]
     },
     "execution_count": 53,
     "metadata": {},
     "output_type": "execute_result"
    }
   ],
   "source": []
  },
  {
   "cell_type": "code",
   "execution_count": null,
   "metadata": {},
   "outputs": [],
   "source": []
  }
 ],
 "metadata": {
  "kernelspec": {
   "display_name": "Python 3",
   "language": "python",
   "name": "python3"
  },
  "language_info": {
   "codemirror_mode": {
    "name": "ipython",
    "version": 3
   },
   "file_extension": ".py",
   "mimetype": "text/x-python",
   "name": "python",
   "nbconvert_exporter": "python",
   "pygments_lexer": "ipython3",
   "version": "3.8.5"
  }
 },
 "nbformat": 4,
 "nbformat_minor": 4
}
