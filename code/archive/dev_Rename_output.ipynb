{
 "cells": [
  {
   "cell_type": "code",
   "execution_count": 6,
   "metadata": {},
   "outputs": [],
   "source": [
    "import os\n",
    "import re\n",
    "from natsort import natsorted"
   ]
  },
  {
   "cell_type": "code",
   "execution_count": 9,
   "metadata": {},
   "outputs": [
    {
     "data": {
      "text/plain": [
       "['L1_task-mid_model-1_type-ppi_seed-NAcc_run-1_sm-.feat',\n",
       " 'L1_task-mid_model-1_type-ppi_seed-NAcc_run-2_sm-.feat',\n",
       " 'L2_task-mid_model-1_type-ppi_seed-NAcc.gfeat']"
      ]
     },
     "execution_count": 9,
     "metadata": {},
     "output_type": "execute_result"
    }
   ],
   "source": [
    "subs=natsorted([sub for sub in os.listdir('../derivatives/fsl/') if sub.startswith('sub-') ])\n",
    "feats=[feat for feat in os.listdir('../derivatives/fsl/%s'%(subs[0])) if ('type-ppi' in feat)&(feat.endswith('feat'))]\n",
    "feats"
   ]
  },
  {
   "cell_type": "code",
   "execution_count": null,
   "metadata": {},
   "outputs": [],
   "source": []
  }
 ],
 "metadata": {
  "kernelspec": {
   "display_name": "Python 3",
   "language": "python",
   "name": "python3"
  },
  "language_info": {
   "codemirror_mode": {
    "name": "ipython",
    "version": 3
   },
   "file_extension": ".py",
   "mimetype": "text/x-python",
   "name": "python",
   "nbconvert_exporter": "python",
   "pygments_lexer": "ipython3",
   "version": "3.8.5"
  }
 },
 "nbformat": 4,
 "nbformat_minor": 4
}
