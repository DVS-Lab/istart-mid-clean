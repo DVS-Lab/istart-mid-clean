{
 "cells": [
  {
   "cell_type": "code",
   "execution_count": 6,
   "metadata": {},
   "outputs": [
    {
     "name": "stdout",
     "output_type": "stream",
     "text": [
      "The number of Subjects are: 60\n",
      "The number of files are: 83\n",
      "----------------------------------------\n",
      "/data/projects/istart/Monetary_Incentive/data/sub-1253/run-1_output.mat\n",
      "sub-1253 1\n",
      "Problem with sub-1253 run-1\n"
     ]
    },
    {
     "name": "stderr",
     "output_type": "stream",
     "text": [
      "<ipython-input-6-570021065cf9>:22: FutureWarning: elementwise comparison failed; returning scalar instead, but in the future will perform elementwise comparison\n",
      "  run1 = np.where(run1==['1'], 'Large_gain', run1)\n"
     ]
    }
   ],
   "source": [
    "#Import the Libraries\n",
    "import numpy as np\n",
    "from scipy.io import loadmat  # this is the SciPy module that loads mat-files\n",
    "import matplotlib.pyplot as plt\n",
    "from datetime import datetime, date, time\n",
    "import pandas as pd\n",
    "import os\n",
    "from natsort import natsorted\n",
    "import re\n",
    "\n",
    "#Make a list of the files\n",
    "Mat_Beh_dir='/data/projects/istart/Monetary_Incentive/data'\n",
    "ML_EvFiles_list=natsorted([os.path.join(root,f) for root,dirs,files in os.walk(\n",
    "    Mat_Beh_dir) for f in files if 'run' in f])\n",
    "\n",
    "print(\"The number of Subjects are: %s\"%(len([x for x in os.listdir(Mat_Beh_dir) if x.startswith('sub')])))\n",
    "print(\"The number of files are: %s\"%(len(ML_EvFiles_list)))\n",
    "print(\"----------------------------------------\")\n",
    "#Make Conditions for Run1 and Run2\n",
    "run_cond=loadmat('%s/../timing/run1.mat'%(Mat_Beh_dir))\n",
    "run1=run_cond['run']['cond'][0,0]\n",
    "run1 = np.where(run1==['1'], 'Large_gain', run1)\n",
    "run1 = np.where(run1==['2'], 'Large_loss', run1)\n",
    "run1 = np.where(run1==['3'], 'Small_gain', run1)\n",
    "run1 = np.where(run1==['4'], 'Small_loss', run1)\n",
    "run1 = np.where(run1==['5'], 'Neutral', run1)\n",
    "run1=np.concatenate(run1)\n",
    "\n",
    "run_cond=loadmat('%s/../timing/run2.mat'%(Mat_Beh_dir))\n",
    "run2=run_cond['run']['cond'][0,0]\n",
    "run2 = np.where(run2==[1], 'Large_gain', run2)\n",
    "run2 = np.where(run2==['2'], 'Large_loss', run2)\n",
    "run2 = np.where(run2==['3'], 'Small_gain', run2)\n",
    "run2 = np.where(run2==['4'], 'Small_loss', run2)\n",
    "run2 = np.where(run2==['5'], 'Neutral', run2)\n",
    "run2=np.concatenate(run2)\n",
    "\n",
    "#Load the .mat convert to dataframe add trial_type and detect bad data\n",
    "ML_EvFiles_list=[f for f in ML_EvFiles_list if ('sub-1253' in f)&('run-1' in f)]\n",
    "\n",
    "for ML_EvFile in ML_EvFiles_list:\n",
    "    print(ML_EvFile)\n",
    "    sub='sub-'+re.search('sub-(.*)/',ML_EvFile).group(1)\n",
    "    run=re.search('run-(.*)_out',ML_EvFile).group(1)\n",
    "    print(sub,run)\n",
    "    mat = loadmat(ML_EvFile)  # load mat-file\n",
    "    mdata = mat['output']  # variable in mat file\n",
    "    mdtype = mdata.dtype  # dtypes of structures are \"unsized objects\"\n",
    "    # * SciiencPy reads in structures as structured NumPy arrays of dtype object\n",
    "    # * The size of the array is the size of the structure array, not the number\n",
    "    #   elements in any particular field. The shape defaults to 2-dimensional.\n",
    "    # * For convene make a dictionary of the data using the names from dtypes\n",
    "    # * Since the structure has only one element, but is 2-D, index it at [0, 0]\n",
    "    ndata = {n: mdata[n][0, 0] for n in mdtype.names}\n",
    "    # Reconstruct the columns of the data table from just the time series\n",
    "    # Use the number of intervals to test if a field is a column or metadata\n",
    "    columns = [n for n in ndata]\n",
    "    #Check fo frame\n",
    "    # now make a data frame, setting the time stamps as the index\n",
    "    lens=[len(x[0]) for x in ndata.values()]\n",
    "    if lens.count(lens[0]) == len(lens):\n",
    "        df = pd.DataFrame(np.transpose(np.concatenate([ndata[c] for c in columns])),\n",
    "                  columns=columns)\n",
    "        if run=='1':\n",
    "            if len(df)==50:\n",
    "                df['trial_type']=run1[0:50]\n",
    "            elif len(df)==75:\n",
    "                df['trial_type']=run1\n",
    "        if run=='2':\n",
    "            df['trial_type']=run2\n",
    "        #print(df)\n",
    "        tmp1=df[['target_starts','trial_starts','trial_type']]\n",
    "        tmp1['duration']=tmp1['target_starts']-tmp1['trial_starts']\n",
    "        tmp1['onset']=tmp1['trial_starts']\n",
    "        tmp1=tmp1[['onset','duration','trial_type']]\n",
    "        tmp2=df[['target_starts','outcome']]\n",
    "        tmp2['onset']=tmp2['target_starts']+1.0\n",
    "        tmp2['duration']=1.0\n",
    "        map_dict = {1: \"ConHit\", 0 : \"ConMiss\"}\n",
    "        tmp2[\"trial_type\"] = tmp2[\"outcome\"].map(map_dict)\n",
    "        tmp2=tmp2[['onset','duration','trial_type']]\n",
    "        df=pd.concat([tmp1,tmp2])\n",
    "        if not os.path.isdir('../../istart-data/bids/%s/func'%(sub)):\n",
    "            os.makedirs('../../istart-data/bids/%s/func'%(sub)) \n",
    "        df.to_csv('../../istart-data/bids/%s/func/%s_task-mid_run-%s_events.tsv'%(sub,sub,run),sep = '\\t', index=False)\n",
    "    else:\n",
    "        print(\"Problem with %s run-%s\"%(sub,run))"
   ]
  },
  {
   "cell_type": "code",
   "execution_count": 14,
   "metadata": {},
   "outputs": [
    {
     "name": "stdout",
     "output_type": "stream",
     "text": [
      "{'outcome': array([[1, 1, 0, 0, 0, 1, 0, 0, 0, 1, 0, 0, 0, 0, 1, 1, 0, 0, 0, 0, 1, 0,\n",
      "        0, 0, 0, 0, 0, 0, 0, 0, 1, 1, 0, 0, 0, 1, 0, 1, 1, 1, 1, 1, 1, 0,\n",
      "        1, 0, 1, 0, 0]], dtype=uint8), 'trial_starts': array([[  4.02052833,  10.10389897,  20.98718243,  30.67043727,\n",
      "         39.15380236,  56.03718755,  63.32050107,  70.60396312,\n",
      "         77.6872592 ,  88.57059367,  98.25392097, 109.13728351,\n",
      "        115.22125519, 127.30400306, 133.38729733, 145.47064412,\n",
      "        151.55401113, 158.83734881, 164.92066783, 174.60403768,\n",
      "        181.88734608, 192.77072855, 202.45405162, 212.13742449,\n",
      "        219.42067492, 227.90409042, 236.38805805, 244.87074241,\n",
      "        259.354125  , 266.63744426, 273.72080554, 281.0041233 ,\n",
      "        287.08748729, 294.17082714, 303.85415655, 312.33749175,\n",
      "        325.62082157, 332.90423321, 340.18751021, 347.27085247,\n",
      "        353.35420319, 364.23753193, 371.32091766, 382.20424308,\n",
      "        397.88814121, 405.17094155, 420.85433496, 430.53760972,\n",
      "        437.82125742, 446.30430282]]), 'target_starts': array([[  6.05392978,  12.13717152,  25.02049211,  33.70381125,\n",
      "         43.18719052,  59.07050266,  65.35382584,  74.6377567 ,\n",
      "         81.72061687,  92.60395527, 102.28726868, 112.17065689,\n",
      "        119.25396353, 130.33729644, 135.4212669 , 148.50400843,\n",
      "        154.58730693, 161.87066483, 168.95401554, 176.63741408,\n",
      "        184.92068685, 196.8040989 , 206.48737518, 216.17136418,\n",
      "        221.45406158, 230.93740734, 238.42071839, 246.90410823,\n",
      "        262.38746336, 270.67076994, 275.75414028, 283.0374689 ,\n",
      "        291.12081659, 298.20417455, 306.88747588, 315.37081742,\n",
      "        327.65418317, 334.93758968, 344.22084313, 350.30421528,\n",
      "        355.38752192, 368.27089987, 374.3542213 , 385.23758174,\n",
      "        399.92093016, 408.20427176, 422.88762471, 432.57093721,\n",
      "        441.85428183, 448.33762608]]), 'RT': array([[0.19740926, 0.22063001, 0.42951681, 0.        , 0.44235551,\n",
      "        0.30893357, 0.44037492, 0.49207264, 0.40938665, 0.02714783,\n",
      "        0.4308517 , 0.58664552, 0.64908241, 0.79286738, 0.40493703,\n",
      "        0.12697995, 0.48697791, 0.75952873, 0.6453283 , 0.42286713,\n",
      "        0.46035263, 0.82597843, 0.55697433, 0.70977688, 0.56446292,\n",
      "        0.        , 0.        , 0.        , 0.        , 0.46045859,\n",
      "        0.47519789, 0.34275069, 0.        , 0.69813572, 0.99382426,\n",
      "        0.38553529, 0.        , 0.2307132 , 0.41043928, 0.41921295,\n",
      "        0.22796554, 0.54248015, 0.02711432, 0.59673294, 0.39153322,\n",
      "        0.5733042 , 0.49363997, 0.        , 0.72313873, 0.        ]]), 'thresh': array([[0.21089905, 0.2341198 , 0.44300661, 0.44300661, 0.45584531,\n",
      "        0.38913433, 0.41071113, 0.47428452, 0.32849812, 0.12576834,\n",
      "        0.44434149, 0.28389066, 0.37856105, 0.50962264, 0.49138348,\n",
      "        0.29240562, 0.48301225, 0.45745254, 0.52696371, 0.36445106,\n",
      "        0.51633945, 0.48320535, 0.50456358, 0.43602597, 0.50215482,\n",
      "        0.50456358, 0.45745254, 0.45745254, 0.50215482, 0.44550658,\n",
      "        0.49318508, 0.48241175, 0.51633945, 0.5370666 , 0.55786807,\n",
      "        0.53139424, 0.53139424, 0.47098338, 0.54385425, 0.48858437,\n",
      "        0.5500516 , 0.68591972, 0.52286874, 0.5748066 , 0.44871429,\n",
      "        0.5567158 , 0.59758113, 0.44871429, 0.72798706, 0.44871429]])}\n"
     ]
    },
    {
     "data": {
      "text/plain": [
       "50"
      ]
     },
     "execution_count": 14,
     "metadata": {},
     "output_type": "execute_result"
    }
   ],
   "source": [
    "print(ndata)\n",
    "len(ndata['trial_starts'][0])\n"
   ]
  },
  {
   "cell_type": "code",
   "execution_count": null,
   "metadata": {},
   "outputs": [],
   "source": []
  }
 ],
 "metadata": {
  "kernelspec": {
   "display_name": "Python 3 (ipykernel)",
   "language": "python",
   "name": "python3"
  },
  "language_info": {
   "codemirror_mode": {
    "name": "ipython",
    "version": 3
   },
   "file_extension": ".py",
   "mimetype": "text/x-python",
   "name": "python",
   "nbconvert_exporter": "python",
   "pygments_lexer": "ipython3",
   "version": "3.11.3"
  }
 },
 "nbformat": 4,
 "nbformat_minor": 4
}
