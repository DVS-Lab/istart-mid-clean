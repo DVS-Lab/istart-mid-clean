{
 "cells": [
  {
   "cell_type": "code",
   "execution_count": 1,
   "id": "c229d920",
   "metadata": {},
   "outputs": [],
   "source": [
    "import os\n",
    "import pandas as pd\n",
    "import numpy as np\n",
    "import seaborn as sms"
   ]
  },
  {
   "cell_type": "code",
   "execution_count": 3,
   "id": "b5c8a44b",
   "metadata": {},
   "outputs": [
    {
     "data": {
      "text/html": [
       "<div>\n",
       "<style scoped>\n",
       "    .dataframe tbody tr th:only-of-type {\n",
       "        vertical-align: middle;\n",
       "    }\n",
       "\n",
       "    .dataframe tbody tr th {\n",
       "        vertical-align: top;\n",
       "    }\n",
       "\n",
       "    .dataframe thead th {\n",
       "        text-align: right;\n",
       "    }\n",
       "</style>\n",
       "<table border=\"1\" class=\"dataframe\">\n",
       "  <thead>\n",
       "    <tr style=\"text-align: right;\">\n",
       "      <th></th>\n",
       "      <th>Sub</th>\n",
       "      <th>task</th>\n",
       "      <th>run</th>\n",
       "      <th>tsnr</th>\n",
       "      <th>fd_mean</th>\n",
       "      <th>outlier_run</th>\n",
       "      <th>sub_run</th>\n",
       "    </tr>\n",
       "  </thead>\n",
       "  <tbody>\n",
       "    <tr>\n",
       "      <th>0</th>\n",
       "      <td>sub-1001</td>\n",
       "      <td>mid</td>\n",
       "      <td>1</td>\n",
       "      <td>69.988391</td>\n",
       "      <td>0.149729</td>\n",
       "      <td>False</td>\n",
       "      <td>sub-1001_1</td>\n",
       "    </tr>\n",
       "    <tr>\n",
       "      <th>1</th>\n",
       "      <td>sub-1001</td>\n",
       "      <td>mid</td>\n",
       "      <td>2</td>\n",
       "      <td>55.697644</td>\n",
       "      <td>0.184703</td>\n",
       "      <td>False</td>\n",
       "      <td>sub-1001_2</td>\n",
       "    </tr>\n",
       "    <tr>\n",
       "      <th>2</th>\n",
       "      <td>sub-1002</td>\n",
       "      <td>mid</td>\n",
       "      <td>1</td>\n",
       "      <td>77.148079</td>\n",
       "      <td>0.111157</td>\n",
       "      <td>False</td>\n",
       "      <td>sub-1002_1</td>\n",
       "    </tr>\n",
       "    <tr>\n",
       "      <th>3</th>\n",
       "      <td>sub-1002</td>\n",
       "      <td>mid</td>\n",
       "      <td>2</td>\n",
       "      <td>90.519196</td>\n",
       "      <td>0.092381</td>\n",
       "      <td>False</td>\n",
       "      <td>sub-1002_2</td>\n",
       "    </tr>\n",
       "    <tr>\n",
       "      <th>4</th>\n",
       "      <td>sub-1003</td>\n",
       "      <td>mid</td>\n",
       "      <td>1</td>\n",
       "      <td>66.602654</td>\n",
       "      <td>0.171448</td>\n",
       "      <td>False</td>\n",
       "      <td>sub-1003_1</td>\n",
       "    </tr>\n",
       "  </tbody>\n",
       "</table>\n",
       "</div>"
      ],
      "text/plain": [
       "        Sub task  run       tsnr   fd_mean  outlier_run     sub_run\n",
       "0  sub-1001  mid    1  69.988391  0.149729        False  sub-1001_1\n",
       "1  sub-1001  mid    2  55.697644  0.184703        False  sub-1001_2\n",
       "2  sub-1002  mid    1  77.148079  0.111157        False  sub-1002_1\n",
       "3  sub-1002  mid    2  90.519196  0.092381        False  sub-1002_2\n",
       "4  sub-1003  mid    1  66.602654  0.171448        False  sub-1003_1"
      ]
     },
     "execution_count": 3,
     "metadata": {},
     "output_type": "execute_result"
    }
   ],
   "source": [
    "os.listdir('../derivatives/')\n",
    "sub_df=pd.read_csv('../derivatives/OutlierRuns.tsv',sep='\\t')\n",
    "\n",
    "sub_df=sub_df[sub_df['outlier_run']==False]\n",
    "sub_df['sub_run']=sub_df['Sub']+'_'+sub_df['run'].astype('str')\n",
    "sub_df.head()"
   ]
  },
  {
   "cell_type": "code",
   "execution_count": 7,
   "id": "6d025585",
   "metadata": {},
   "outputs": [
    {
     "ename": "ModuleNotFoundError",
     "evalue": "No module named 'natsort'",
     "output_type": "error",
     "traceback": [
      "\u001b[0;31m---------------------------------------------------------------------------\u001b[0m",
      "\u001b[0;31mModuleNotFoundError\u001b[0m                       Traceback (most recent call last)",
      "Cell \u001b[0;32mIn[7], line 8\u001b[0m\n\u001b[1;32m      6\u001b[0m \u001b[38;5;28;01mimport\u001b[39;00m \u001b[38;5;21;01mpandas\u001b[39;00m \u001b[38;5;28;01mas\u001b[39;00m \u001b[38;5;21;01mpd\u001b[39;00m\n\u001b[1;32m      7\u001b[0m \u001b[38;5;28;01mimport\u001b[39;00m \u001b[38;5;21;01mos\u001b[39;00m\n\u001b[0;32m----> 8\u001b[0m \u001b[38;5;28;01mfrom\u001b[39;00m \u001b[38;5;21;01mnatsort\u001b[39;00m \u001b[38;5;28;01mimport\u001b[39;00m natsorted\n\u001b[1;32m      9\u001b[0m \u001b[38;5;28;01mimport\u001b[39;00m \u001b[38;5;21;01mre\u001b[39;00m\n\u001b[1;32m     11\u001b[0m \u001b[38;5;66;03m#Make a list of the files\u001b[39;00m\n",
      "\u001b[0;31mModuleNotFoundError\u001b[0m: No module named 'natsort'"
     ]
    }
   ],
   "source": [
    "#Import the Libraries\n",
    "import numpy as np\n",
    "from scipy.io import loadmat  # this is the SciPy module that loads mat-files\n",
    "import matplotlib.pyplot as plt\n",
    "from datetime import datetime, date, time\n",
    "import pandas as pd\n",
    "import os\n",
    "from natsort import natsorted\n",
    "import re\n",
    "\n",
    "#Make a list of the files\n",
    "Mat_Beh_dir='/data/projects/istart/Monetary_Incentive/data'\n",
    "ML_EvFiles_list=natsorted([os.path.join(root,f) for root,dirs,files in os.walk(\n",
    "    Mat_Beh_dir) for f in files if 'run' in f])\n",
    "\n",
    "print(\"The number of Subjects are: %s\"%(len([x for x in os.listdir(Mat_Beh_dir) if x.startswith('sub')])))\n",
    "print(\"The number of files are: %s\"%(len(ML_EvFiles_list)))\n",
    "print(\"----------------------------------------\")\n",
    "#Make Conditions for Run1 and Run2\n",
    "run_cond=loadmat('%s/../timing/run1.mat'%(Mat_Beh_dir))\n",
    "run1=run_cond['run']['cond'][0,0]\n",
    "run1 = np.where(run1==['1'], 'Large_gain', run1)\n",
    "run1 = np.where(run1==[1], 'Large_gain', run1)\n",
    "run1 = np.where(run1==['2'], 'Large_loss', run1)\n",
    "run1 = np.where(run1==['3'], 'Small_gain', run1)\n",
    "run1 = np.where(run1==['4'], 'Small_loss', run1)\n",
    "run1 = np.where(run1==['5'], 'Neutral', run1)\n",
    "run1=np.concatenate(run1)\n",
    "\n",
    "run_cond=loadmat('%s/../timing/run2.mat'%(Mat_Beh_dir))\n",
    "run2=run_cond['run']['cond'][0,0]\n",
    "run2 = np.where(run2==[1], 'Large_gain', run2)\n",
    "run2 = np.where(run2==['1'], 'Large_gain', run2)\n",
    "run2 = np.where(run2==['2'], 'Large_loss', run2)\n",
    "run2 = np.where(run2==['3'], 'Small_gain', run2)\n",
    "run2 = np.where(run2==['4'], 'Small_loss', run2)\n",
    "run2 = np.where(run2==['5'], 'Neutral', run2)\n",
    "run2=np.concatenate(run2)\n"
   ]
  },
  {
   "cell_type": "code",
   "execution_count": null,
   "id": "bd29e56a",
   "metadata": {},
   "outputs": [],
   "source": [
    "display(ML_EvFiles_list)"
   ]
  },
  {
   "cell_type": "code",
   "execution_count": null,
   "id": "567eaccc",
   "metadata": {},
   "outputs": [],
   "source": [
    "data_dir='/data/projects/istart/Monetary_Incentive/'\n",
    "len(os.listdir('%s/bids_archive/bids'%(data_dir)))"
   ]
  },
  {
   "cell_type": "code",
   "execution_count": null,
   "id": "73390f55",
   "metadata": {},
   "outputs": [],
   "source": [
    "len(sub_df['Sub'].unique())"
   ]
  },
  {
   "cell_type": "code",
   "execution_count": null,
   "id": "5545fadc",
   "metadata": {},
   "outputs": [],
   "source": [
    "data=[]\n",
    "for ML_EvFile in ML_EvFiles_list:\n",
    "    #print(ML_EvFile)\n",
    "    sub='sub-'+re.search('sub-(.*)/',ML_EvFile).group(1)\n",
    "    run=re.search('run-(.*)_out',ML_EvFile).group(1)\n",
    "    #if sub+'_'+run in sub_df['sub_run'].values:\n",
    "    #print(sub,run)\n",
    "    mat = loadmat(ML_EvFile)  # load mat-file\n",
    "    mdata = mat['output']  # variable in mat file\n",
    "    mdtype = mdata.dtype  # dtypes of structures are \"unsized objects\"\n",
    "    # * SciiencPy reads in structures as structureprintd NumPy arrays of dtype object\n",
    "    # * The size of the array is the size of the structure array, not the number\n",
    "    #   elements in any particular field. The shape defaults to 2-dimensional.\n",
    "    # * For convene make a dictionary of the data using the names from dtypes\n",
    "    # * Since the structure has only one element, but is 2-D, index it at [0, 0]\n",
    "    ndata = {n: mdata[n][0, 0] for n in mdtype.names}\n",
    "    # Reconstruct the columns of the data table from just the time series\n",
    "    # Use the number of intervals to test if a field is a column or metadata\n",
    "    columns = [n for n in ndata]\n",
    "    #Check fo frame\n",
    "    # now make a data frame, setting the time stamps as the index\n",
    "    lens=[len(x[0]) for x in ndata.values()]\n",
    "    if lens.count(lens[0]) == len(lens):\n",
    "        df = pd.DataFrame(np.transpose(np.concatenate([ndata[c] for c in columns])),\n",
    "                  columns=columns)\n",
    "        if run=='1':\n",
    "            if len(df)==50:\n",
    "                df['trial_type']=run1[0:50]\n",
    "            elif len(df)==75:\n",
    "                df['trial_type']=run1\n",
    "        if run=='2':\n",
    "            df['trial_type']=run2\n",
    "        df['sub']=sub\n",
    "        df['run']=run\n",
    "        data.append(df)\n",
    "df=pd.concat(data)"
   ]
  },
  {
   "cell_type": "code",
   "execution_count": null,
   "id": "f674602a",
   "metadata": {},
   "outputs": [],
   "source": [
    "sms.histplot(x=df['RT'])"
   ]
  },
  {
   "cell_type": "code",
   "execution_count": null,
   "id": "32cb26ae",
   "metadata": {},
   "outputs": [],
   "source": [
    "misses=[]\n",
    "for sub in df['sub'].unique():\n",
    "    tmp=df[df['sub']==sub]\n",
    "    for run in tmp['run'].unique():\n",
    "        tmp=tmp[tmp['run']==run]\n",
    "        misses.append(len(tmp[(tmp['RT']==0)&(tmp['outcome']==0)]))\n"
   ]
  },
  {
   "cell_type": "code",
   "execution_count": null,
   "id": "27079910",
   "metadata": {},
   "outputs": [],
   "source": [
    "print(\" The largest number of missed trials is %s this is less than 20 percent of trials\"%(np.max(misses)))"
   ]
  },
  {
   "cell_type": "code",
   "execution_count": null,
   "id": "53914c19",
   "metadata": {},
   "outputs": [],
   "source": [
    "df.loc[df[\"trial_type\"] == \"1\", \"trial_type\"] = \"Large_gain\"\n",
    "df['run']=df['run'].astype(int)\n",
    "df.groupby(by=['sub','run']).max().reset_index()\n"
   ]
  },
  {
   "cell_type": "code",
   "execution_count": null,
   "id": "c4ff3953",
   "metadata": {},
   "outputs": [],
   "source": [
    "no_miss=df[(df['RT']>0.001)]\n",
    "no_miss[no_miss['RT']==0]\n",
    "df=no_miss"
   ]
  },
  {
   "cell_type": "code",
   "execution_count": null,
   "id": "f55e802b",
   "metadata": {},
   "outputs": [],
   "source": [
    "sms.histplot(x=df['RT'])"
   ]
  },
  {
   "cell_type": "code",
   "execution_count": null,
   "id": "f8691b1a",
   "metadata": {},
   "outputs": [],
   "source": [
    "df.loc[df[\"trial_type\"] == \"1\", \"trial_type\"] = \"Large_gain\"\n",
    "\n",
    "df['Trial_code']=df['trial_type'].map({\"Large_loss\":-2,\"Small_loss\":-1,\"Neutral\":0,\"Small_gain\":1,\"Large_gain\":2})\n",
    "df['Trial_code'].unique()"
   ]
  },
  {
   "cell_type": "code",
   "execution_count": null,
   "id": "931ebfb2",
   "metadata": {},
   "outputs": [],
   "source": [
    "df[df['sub']=='sub-3199']"
   ]
  },
  {
   "cell_type": "code",
   "execution_count": null,
   "id": "0360ed79",
   "metadata": {},
   "outputs": [],
   "source": [
    "df['run']=df['run'].astype(int)\n",
    "group_df=df.groupby(by=['sub','trial_type']).median()\n",
    "group_df=group_df.reset_index()\n",
    "display(group_df.head())\n",
    "sms.barplot(x='Trial_code',y='RT',data=group_df,ci=68)"
   ]
  },
  {
   "cell_type": "code",
   "execution_count": null,
   "id": "fa088cc0",
   "metadata": {},
   "outputs": [],
   "source": [
    "from scipy.stats import ttest_rel\n",
    "print(\"Is the Mean RT difference between large and small gains significant\")\n",
    "ttest_rel(group_df[group_df['trial_type']=='Large_gain']['RT'],\n",
    "         group_df[group_df['trial_type']=='Neutral']['RT'])"
   ]
  },
  {
   "cell_type": "code",
   "execution_count": null,
   "id": "c005f8eb",
   "metadata": {},
   "outputs": [],
   "source": [
    "print(\"Is the Mean RT difference between large and small losses significant\")\n",
    "\n",
    "ttest_rel(group_df[group_df['trial_type']=='Large_loss']['RT'],\n",
    "         group_df[group_df['trial_type']=='Neutral']['RT'])"
   ]
  },
  {
   "cell_type": "code",
   "execution_count": null,
   "id": "dd4c3df3",
   "metadata": {},
   "outputs": [],
   "source": [
    "import numpy as np\n",
    "\n",
    "data=[]\n",
    "#polynomial fit with degree = 2\n",
    "for sub in group_df['sub'].unique():\n",
    "    tmp=group_df[group_df['sub']==sub]\n",
    "    LG_RT=tmp[tmp['trial_type']==\"Large_gain\"]['RT'].values[0]\n",
    "    LL_RT=tmp[tmp['trial_type']==\"Large_loss\"]['RT'].values[0]\n",
    "    Neu_RT=tmp[tmp['trial_type']==\"Neutral\"]['RT'].values[0]\n",
    "    model = np.poly1d(np.polyfit(tmp['Trial_code'].values, tmp['RT'].values, 2))\n",
    "    \n",
    "    data.append([sub,model[2],\n",
    "                 LG_RT-Neu_RT,\n",
    "                 LL_RT-Neu_RT,\n",
    "                 (LG_RT-Neu_RT)-(LL_RT-Neu_RT)\n",
    "                ])\n",
    "Fits=pd.DataFrame(columns=['Sub','V_beta','LG-N','LL-N',\"rel_rew\"],data=data)"
   ]
  },
  {
   "cell_type": "code",
   "execution_count": null,
   "id": "6922f29e",
   "metadata": {},
   "outputs": [],
   "source": [
    "Fits.to_csv('../derivatives/Fits_of_RT.csv',index=False)"
   ]
  },
  {
   "cell_type": "code",
   "execution_count": null,
   "id": "12a6dad9",
   "metadata": {},
   "outputs": [],
   "source": [
    "Fits\n"
   ]
  },
  {
   "cell_type": "code",
   "execution_count": null,
   "id": "bb06770c",
   "metadata": {},
   "outputs": [],
   "source": [
    "per_df=pd.read_excel('../derivatives/covariates/final_output_composite_wfnames.xls')\n",
    "per_df['Subject']='sub-'+per_df['Subject'].astype('str')\n",
    "per_df"
   ]
  },
  {
   "cell_type": "code",
   "execution_count": null,
   "id": "e9cb0ec5",
   "metadata": {},
   "outputs": [],
   "source": [
    "total_df=pd.merge(Fits, per_df, how='left', left_on=['Sub'], right_on=['Subject'])\n",
    "total_df.head()"
   ]
  },
  {
   "cell_type": "code",
   "execution_count": null,
   "id": "1b81264a",
   "metadata": {},
   "outputs": [],
   "source": [
    "from scipy.stats import pearsonr,kendalltau\n",
    "responses=['V_beta','LG-N','LL-N']#'rel_rew']\n",
    "\n",
    "total_df=total_df[~total_df['Composite_Reward'].isna()]\n",
    "\n",
    "for resp in responses:\n",
    "    sms.lmplot(x='Composite_Reward',y=resp,data=total_df,order=1)\n",
    "    \n",
    "    plt.show()\n",
    "    r,p=pearsonr(total_df['Composite_Reward'],total_df[resp])\n",
    "    print('r:  %s p: %s'%(r,p))\n",
    "for resp in responses:\n",
    "    sms.lmplot(x='Composite_Reward',y=resp,data=total_df,order=2)\n",
    "    plt.show()\n",
    "    r,p=pearsonr(total_df['Composite_Reward_Squared'],total_df[resp])\n",
    "    print('r:  %s p: %s'%(r,p))\n",
    "\n",
    "    "
   ]
  },
  {
   "cell_type": "code",
   "execution_count": null,
   "id": "cb4d476a",
   "metadata": {},
   "outputs": [],
   "source": [
    "per_df"
   ]
  },
  {
   "cell_type": "code",
   "execution_count": null,
   "id": "f15e3f1a",
   "metadata": {},
   "outputs": [],
   "source": []
  }
 ],
 "metadata": {
  "kernelspec": {
   "display_name": "Python 3 (ipykernel)",
   "language": "python",
   "name": "python3"
  },
  "language_info": {
   "codemirror_mode": {
    "name": "ipython",
    "version": 3
   },
   "file_extension": ".py",
   "mimetype": "text/x-python",
   "name": "python",
   "nbconvert_exporter": "python",
   "pygments_lexer": "ipython3",
   "version": "3.12.4"
  }
 },
 "nbformat": 4,
 "nbformat_minor": 5
}
