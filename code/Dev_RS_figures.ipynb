{
 "cells": [
  {
   "cell_type": "code",
   "execution_count": 1,
   "metadata": {},
   "outputs": [
    {
     "name": "stderr",
     "output_type": "stream",
     "text": [
      "/ZPOOL/data/tools/anaconda/tuj71575/lib/python3.11/site-packages/nilearn/input_data/__init__.py:23: FutureWarning: The import path 'nilearn.input_data' is deprecated in version 0.9. Importing from 'nilearn.input_data' will be possible at least until release 0.13.0. Please import from 'nilearn.maskers' instead.\n",
      "  warnings.warn(message, FutureWarning)\n",
      "/ZPOOL/data/tools/anaconda/tuj71575/lib/python3.11/site-packages/numpy/ma/core.py:2820: UserWarning: Warning: converting a masked element to nan.\n",
      "  _data = np.array(data, dtype=dtype, copy=copy,\n"
     ]
    },
    {
     "data": {
      "image/png": "[encoded data removed]",
      "text/plain": [
       "<Figure size 660x260 with 4 Axes>"
      ]
     },
     "metadata": {},
     "output_type": "display_data"
    },
    {
     "data": {
      "text/html": [
       "<div>\n",
       "<style scoped>\n",
       "    .dataframe tbody tr th:only-of-type {\n",
       "        vertical-align: middle;\n",
       "    }\n",
       "\n",
       "    .dataframe tbody tr th {\n",
       "        vertical-align: top;\n",
       "    }\n",
       "\n",
       "    .dataframe thead th {\n",
       "        text-align: right;\n",
       "    }\n",
       "</style>\n",
       "<table border=\"1\" class=\"dataframe\">\n",
       "  <thead>\n",
       "    <tr style=\"text-align: right;\">\n",
       "      <th></th>\n",
       "      <th>Subject</th>\n",
       "      <th>Ones</th>\n",
       "      <th>Composite_Reward</th>\n",
       "      <th>Composite_Reward_Squared</th>\n",
       "      <th>tsnr</th>\n",
       "      <th>fd_mean</th>\n",
       "    </tr>\n",
       "  </thead>\n",
       "  <tbody>\n",
       "    <tr>\n",
       "      <th>0</th>\n",
       "      <td>sub-1001</td>\n",
       "      <td>1</td>\n",
       "      <td>0.469388</td>\n",
       "      <td>0.220325</td>\n",
       "      <td>-0.379745</td>\n",
       "      <td>0.030117</td>\n",
       "    </tr>\n",
       "    <tr>\n",
       "      <th>1</th>\n",
       "      <td>sub-1002</td>\n",
       "      <td>1</td>\n",
       "      <td>-1.530612</td>\n",
       "      <td>2.342774</td>\n",
       "      <td>1.099834</td>\n",
       "      <td>-1.142999</td>\n",
       "    </tr>\n",
       "    <tr>\n",
       "      <th>2</th>\n",
       "      <td>sub-1003</td>\n",
       "      <td>1</td>\n",
       "      <td>0.469388</td>\n",
       "      <td>0.220325</td>\n",
       "      <td>-0.114737</td>\n",
       "      <td>0.105981</td>\n",
       "    </tr>\n",
       "    <tr>\n",
       "      <th>3</th>\n",
       "      <td>sub-1004</td>\n",
       "      <td>1</td>\n",
       "      <td>2.469388</td>\n",
       "      <td>6.097876</td>\n",
       "      <td>-0.076754</td>\n",
       "      <td>-0.474856</td>\n",
       "    </tr>\n",
       "    <tr>\n",
       "      <th>4</th>\n",
       "      <td>sub-1006</td>\n",
       "      <td>1</td>\n",
       "      <td>-0.530612</td>\n",
       "      <td>0.281549</td>\n",
       "      <td>1.360129</td>\n",
       "      <td>-0.870765</td>\n",
       "    </tr>\n",
       "  </tbody>\n",
       "</table>\n",
       "</div>"
      ],
      "text/plain": [
       "    Subject  Ones  Composite_Reward  Composite_Reward_Squared      tsnr  \\\n",
       "0  sub-1001     1          0.469388                  0.220325 -0.379745   \n",
       "1  sub-1002     1         -1.530612                  2.342774  1.099834   \n",
       "2  sub-1003     1          0.469388                  0.220325 -0.114737   \n",
       "3  sub-1004     1          2.469388                  6.097876 -0.076754   \n",
       "4  sub-1006     1         -0.530612                  0.281549  1.360129   \n",
       "\n",
       "    fd_mean  \n",
       "0  0.030117  \n",
       "1 -1.142999  \n",
       "2  0.105981  \n",
       "3 -0.474856  \n",
       "4 -0.870765  "
      ]
     },
     "execution_count": 1,
     "metadata": {},
     "output_type": "execute_result"
    }
   ],
   "source": [
    "import os \n",
    "import pandas as pd\n",
    "from nilearn import plotting, input_data\n",
    "import matplotlib.pyplot as plt\n",
    "import seaborn as sms\n",
    "import re\n",
    "import numpy as np\n",
    "\n",
    "#Save Text as text\n",
    "new_rc_params = {'text.usetex': False,\n",
    "\"svg.fonttype\": 'none'\n",
    "}\n",
    "plt.rcParams.update(new_rc_params)\n",
    "\n",
    "task='mid'\n",
    "\n",
    "mask='../masks/seed-VS.nii.gz'\n",
    "plotting.plot_roi(mask,draw_cross=False,cut_coords=[11.5,35.5,-0.5])\n",
    "vs_masker=input_data.NiftiMasker(mask_img=mask)\n",
    "plt.show()\n",
    "\n",
    "fsl_data='/data/projects/istart-%s/derivatives/fsl'%(task)\n",
    "\n",
    "\n",
    "df=pd.read_excel('../derivatives/covariates/final_output_composite.xls')\n",
    "df=df.iloc[:47,:]\n",
    "df.dropna(axis=1,inplace=True)\n",
    "df['Subject'] = 'sub-' + df['Subject'].astype(str)\n",
    "df.head()"
   ]
  },
  {
   "cell_type": "markdown",
   "metadata": {},
   "source": [
    "# Correlation Between Reward Sensitivity and Subst.Use"
   ]
  },
  {
   "cell_type": "code",
   "execution_count": 3,
   "metadata": {},
   "outputs": [],
   "source": [
    "#sms.lmplot(x='Composite_Reward',y='Composite_Substance',data=df,order=2)\n",
    "#from scipy.stats import pearsonr\n",
    "#r,p=pearsonr(x=df['Composite_Reward_Squared'],y=df['Composite_Substance'])\n",
    "#print(\"Correlation R^2:%s p: %s\"%(r**2,p))"
   ]
  },
  {
   "cell_type": "markdown",
   "metadata": {},
   "source": [
    "## Collecting VS activation for Each subject"
   ]
  },
  {
   "cell_type": "code",
   "execution_count": 11,
   "metadata": {},
   "outputs": [
    {
     "data": {
      "text/plain": [
       "['L1_task-mid_model-4_type-act_run-2.feat',\n",
       " 'L1_task-mid_model-4_type-act_run-1.feat']"
      ]
     },
     "execution_count": 11,
     "metadata": {},
     "output_type": "execute_result"
    }
   ],
   "source": [
    "x=[x for x in os.listdir('../derivatives/fsl/sub-1015') if 'act_run' in x]\n",
    "x=[d for d in x if 'model-4' in d]\n",
    "x"
   ]
  },
  {
   "cell_type": "code",
   "execution_count": 4,
   "metadata": {},
   "outputs": [
    {
     "ename": "KeyError",
     "evalue": "'Fnames-act'",
     "output_type": "error",
     "traceback": [
      "\u001b[0;31m---------------------------------------------------------------------------\u001b[0m",
      "\u001b[0;31mKeyError\u001b[0m                                  Traceback (most recent call last)",
      "File \u001b[0;32m/ZPOOL/data/tools/anaconda/tuj71575/lib/python3.11/site-packages/pandas/core/indexes/base.py:3802\u001b[0m, in \u001b[0;36mIndex.get_loc\u001b[0;34m(self, key, method, tolerance)\u001b[0m\n\u001b[1;32m   3801\u001b[0m \u001b[38;5;28;01mtry\u001b[39;00m:\n\u001b[0;32m-> 3802\u001b[0m     \u001b[38;5;28;01mreturn\u001b[39;00m \u001b[38;5;28mself\u001b[39m\u001b[38;5;241m.\u001b[39m_engine\u001b[38;5;241m.\u001b[39mget_loc(casted_key)\n\u001b[1;32m   3803\u001b[0m \u001b[38;5;28;01mexcept\u001b[39;00m \u001b[38;5;167;01mKeyError\u001b[39;00m \u001b[38;5;28;01mas\u001b[39;00m err:\n",
      "File \u001b[0;32m/ZPOOL/data/tools/anaconda/tuj71575/lib/python3.11/site-packages/pandas/_libs/index.pyx:138\u001b[0m, in \u001b[0;36mpandas._libs.index.IndexEngine.get_loc\u001b[0;34m()\u001b[0m\n",
      "File \u001b[0;32m/ZPOOL/data/tools/anaconda/tuj71575/lib/python3.11/site-packages/pandas/_libs/index.pyx:165\u001b[0m, in \u001b[0;36mpandas._libs.index.IndexEngine.get_loc\u001b[0;34m()\u001b[0m\n",
      "File \u001b[0;32mpandas/_libs/hashtable_class_helper.pxi:5745\u001b[0m, in \u001b[0;36mpandas._libs.hashtable.PyObjectHashTable.get_item\u001b[0;34m()\u001b[0m\n",
      "File \u001b[0;32mpandas/_libs/hashtable_class_helper.pxi:5753\u001b[0m, in \u001b[0;36mpandas._libs.hashtable.PyObjectHashTable.get_item\u001b[0;34m()\u001b[0m\n",
      "\u001b[0;31mKeyError\u001b[0m: 'Fnames-act'",
      "\nThe above exception was the direct cause of the following exception:\n",
      "\u001b[0;31mKeyError\u001b[0m                                  Traceback (most recent call last)",
      "Cell \u001b[0;32mIn[4], line 7\u001b[0m\n\u001b[1;32m      1\u001b[0m data\u001b[38;5;241m=\u001b[39m[]\n\u001b[1;32m      2\u001b[0m cope_map\u001b[38;5;241m=\u001b[39m{\u001b[38;5;241m1\u001b[39m:\u001b[38;5;124m'\u001b[39m\u001b[38;5;124mLarge Gain\u001b[39m\u001b[38;5;124m'\u001b[39m, \u001b[38;5;241m2\u001b[39m: \u001b[38;5;124m'\u001b[39m\u001b[38;5;124mSmall Gain\u001b[39m\u001b[38;5;124m'\u001b[39m,\n\u001b[1;32m      3\u001b[0m           \u001b[38;5;241m3\u001b[39m: \u001b[38;5;124m'\u001b[39m\u001b[38;5;124mLarge Loss\u001b[39m\u001b[38;5;124m'\u001b[39m, \u001b[38;5;241m4\u001b[39m: \u001b[38;5;124m'\u001b[39m\u001b[38;5;124mSmall Loss\u001b[39m\u001b[38;5;124m'\u001b[39m, \u001b[38;5;241m5\u001b[39m: \u001b[38;5;124m'\u001b[39m\u001b[38;5;124mHit\u001b[39m\u001b[38;5;124m'\u001b[39m,\n\u001b[1;32m      4\u001b[0m          \u001b[38;5;241m6\u001b[39m:\u001b[38;5;124m'\u001b[39m\u001b[38;5;124mMiss\u001b[39m\u001b[38;5;124m'\u001b[39m,\u001b[38;5;241m7\u001b[39m:\u001b[38;5;124m'\u001b[39m\u001b[38;5;124mNeutral\u001b[39m\u001b[38;5;124m'\u001b[39m,\u001b[38;5;241m8\u001b[39m:\u001b[38;5;124m'\u001b[39m\u001b[38;5;124mGain>Loss\u001b[39m\u001b[38;5;124m'\u001b[39m,\u001b[38;5;241m9\u001b[39m:\u001b[38;5;124m'\u001b[39m\u001b[38;5;124mGain>Neut\u001b[39m\u001b[38;5;124m'\u001b[39m,\n\u001b[1;32m      5\u001b[0m          \u001b[38;5;241m10\u001b[39m:\u001b[38;5;124m'\u001b[39m\u001b[38;5;124mLoss>Neut\u001b[39m\u001b[38;5;124m'\u001b[39m,\u001b[38;5;241m11\u001b[39m:\u001b[38;5;124m'\u001b[39m\u001b[38;5;124mSalience\u001b[39m\u001b[38;5;124m'\u001b[39m,\u001b[38;5;241m12\u001b[39m:\u001b[38;5;124m'\u001b[39m\u001b[38;5;124mHit-Miss\u001b[39m\u001b[38;5;124m'\u001b[39m,\n\u001b[1;32m      6\u001b[0m           \u001b[38;5;241m13\u001b[39m:\u001b[38;5;124m'\u001b[39m\u001b[38;5;124mLG-SG\u001b[39m\u001b[38;5;124m'\u001b[39m,\u001b[38;5;241m14\u001b[39m:\u001b[38;5;124m'\u001b[39m\u001b[38;5;124mLL-SL\u001b[39m\u001b[38;5;124m'\u001b[39m}\n\u001b[0;32m----> 7\u001b[0m \u001b[38;5;28mprint\u001b[39m(df[\u001b[38;5;124m'\u001b[39m\u001b[38;5;124mFnames-act\u001b[39m\u001b[38;5;124m'\u001b[39m][\u001b[38;5;241m0\u001b[39m])\n\u001b[1;32m      8\u001b[0m \u001b[38;5;28;01mfor\u001b[39;00m fname \u001b[38;5;129;01min\u001b[39;00m df[\u001b[38;5;124m'\u001b[39m\u001b[38;5;124mFnames-act\u001b[39m\u001b[38;5;124m'\u001b[39m]:\n\u001b[1;32m      9\u001b[0m     sub\u001b[38;5;241m=\u001b[39mre\u001b[38;5;241m.\u001b[39msearch(\u001b[38;5;124m'\u001b[39m\u001b[38;5;124mfsl/(.*)/L\u001b[39m\u001b[38;5;124m'\u001b[39m,fname)\u001b[38;5;241m.\u001b[39mgroup(\u001b[38;5;241m1\u001b[39m)\n",
      "File \u001b[0;32m/ZPOOL/data/tools/anaconda/tuj71575/lib/python3.11/site-packages/pandas/core/frame.py:3807\u001b[0m, in \u001b[0;36mDataFrame.__getitem__\u001b[0;34m(self, key)\u001b[0m\n\u001b[1;32m   3805\u001b[0m \u001b[38;5;28;01mif\u001b[39;00m \u001b[38;5;28mself\u001b[39m\u001b[38;5;241m.\u001b[39mcolumns\u001b[38;5;241m.\u001b[39mnlevels \u001b[38;5;241m>\u001b[39m \u001b[38;5;241m1\u001b[39m:\n\u001b[1;32m   3806\u001b[0m     \u001b[38;5;28;01mreturn\u001b[39;00m \u001b[38;5;28mself\u001b[39m\u001b[38;5;241m.\u001b[39m_getitem_multilevel(key)\n\u001b[0;32m-> 3807\u001b[0m indexer \u001b[38;5;241m=\u001b[39m \u001b[38;5;28mself\u001b[39m\u001b[38;5;241m.\u001b[39mcolumns\u001b[38;5;241m.\u001b[39mget_loc(key)\n\u001b[1;32m   3808\u001b[0m \u001b[38;5;28;01mif\u001b[39;00m is_integer(indexer):\n\u001b[1;32m   3809\u001b[0m     indexer \u001b[38;5;241m=\u001b[39m [indexer]\n",
      "File \u001b[0;32m/ZPOOL/data/tools/anaconda/tuj71575/lib/python3.11/site-packages/pandas/core/indexes/base.py:3804\u001b[0m, in \u001b[0;36mIndex.get_loc\u001b[0;34m(self, key, method, tolerance)\u001b[0m\n\u001b[1;32m   3802\u001b[0m     \u001b[38;5;28;01mreturn\u001b[39;00m \u001b[38;5;28mself\u001b[39m\u001b[38;5;241m.\u001b[39m_engine\u001b[38;5;241m.\u001b[39mget_loc(casted_key)\n\u001b[1;32m   3803\u001b[0m \u001b[38;5;28;01mexcept\u001b[39;00m \u001b[38;5;167;01mKeyError\u001b[39;00m \u001b[38;5;28;01mas\u001b[39;00m err:\n\u001b[0;32m-> 3804\u001b[0m     \u001b[38;5;28;01mraise\u001b[39;00m \u001b[38;5;167;01mKeyError\u001b[39;00m(key) \u001b[38;5;28;01mfrom\u001b[39;00m \u001b[38;5;21;01merr\u001b[39;00m\n\u001b[1;32m   3805\u001b[0m \u001b[38;5;28;01mexcept\u001b[39;00m \u001b[38;5;167;01mTypeError\u001b[39;00m:\n\u001b[1;32m   3806\u001b[0m     \u001b[38;5;66;03m# If we have a listlike key, _check_indexing_error will raise\u001b[39;00m\n\u001b[1;32m   3807\u001b[0m     \u001b[38;5;66;03m#  InvalidIndexError. Otherwise we fall through and re-raise\u001b[39;00m\n\u001b[1;32m   3808\u001b[0m     \u001b[38;5;66;03m#  the TypeError.\u001b[39;00m\n\u001b[1;32m   3809\u001b[0m     \u001b[38;5;28mself\u001b[39m\u001b[38;5;241m.\u001b[39m_check_indexing_error(key)\n",
      "\u001b[0;31mKeyError\u001b[0m: 'Fnames-act'"
     ]
    }
   ],
   "source": [
    "data=[]\n",
    "cope_map={1:'Large Gain', 2: 'Small Gain',\n",
    "          3: 'Large Loss', 4: 'Small Loss', 5: 'Hit',\n",
    "         6:'Miss',7:'Neutral',8:'Gain>Loss',9:'Gain>Neut',\n",
    "         10:'Loss>Neut',11:'Salience',12:'Hit-Miss',\n",
    "          13:'LG-SG',14:'LL-SL'}\n",
    "print(df['Fnames-act'][0])\n",
    "for fname in df['Fnames-act']:\n",
    "    sub=re.search('fsl/(.*)/L',fname).group(1)\n",
    "    level=re.search('sub-..../(.*)_task',fname).group(1)\n",
    "    activations=[]\n",
    "    cope_list=[]\n",
    "    for cope in [8,9,10,11,12,13,14]:\n",
    "        \n",
    "        if level=='L1':\n",
    "            image='%s/%s/L1_task-mid_model-1_type-act_run-1.feat/stats/cope%s.nii.gz'%(\n",
    "            fsl_data,sub,cope)\n",
    "        if level=='L2':\n",
    "            image='%s/%s/L2_task-mid_model-1_type-act.gfeat/cope%s.feat/stats/cope1.nii.gz'%(\n",
    "            fsl_data,sub,cope)\n",
    "        \n",
    "        act_value_array=vs_masker.fit_transform(image)\n",
    "        act_value=np.mean(act_value_array)\n",
    "        activations.append(act_value)\n",
    "        cope_list.append(cope)\n",
    "    data.append([sub]+activations)\n",
    "\n",
    "neuro_df=pd.DataFrame(data=data,columns=['Subject','Act Gain>Loss','Act Gain>Neut',\n",
    "         'Act Loss>Neut','Act Salience','Act Hit-Miss','Act LG-SG','Act LL-SL'])\n",
    "big_df=pd.merge(df,neuro_df,on='Subject')\n",
    "display(big_df.head())\n",
    "plotting.plot_roi(vs_masker.mask_img_,draw_cross=False)\n"
   ]
  },
  {
   "cell_type": "code",
   "execution_count": null,
   "metadata": {},
   "outputs": [],
   "source": [
    "big_df.head()\n",
    "big_df.to_csv(\"For_David_VSAct.tsv\",sep='\\t',index=False)"
   ]
  },
  {
   "cell_type": "markdown",
   "metadata": {},
   "source": [
    "## Reward Sensitivity and VS Activation"
   ]
  },
  {
   "cell_type": "code",
   "execution_count": null,
   "metadata": {
    "scrolled": true
   },
   "outputs": [],
   "source": [
    "copes=[col for col in big_df.columns if col.startswith('Act')]\n",
    "for col in copes:\n",
    "    r,p=pearsonr(big_df['Composite_Reward'],big_df[col])\n",
    "    print(\"Correlation between %s and Composite Reward: \\n R^2 %s p: %s\"%(\n",
    "    col,r**2,p))\n",
    "    sms.lmplot(x='Composite_Reward',y=col,\n",
    "               data=big_df)\n",
    "    plt.show()\n",
    "    r,p=pearsonr(big_df['Composite_Reward_Squared'],big_df[col])\n",
    "    print(\"Correlation between %s and Squared Composite Reward: \\n R^2 %s p: %s\"%(\n",
    "    col,r**2,p))\n",
    "    sms.lmplot(x='Composite_Reward',y=col,\n",
    "               data=big_df,order=2)\n",
    "    plt.show()"
   ]
  },
  {
   "cell_type": "markdown",
   "metadata": {},
   "source": [
    "## Substance Use and VS Activation"
   ]
  },
  {
   "cell_type": "code",
   "execution_count": null,
   "metadata": {
    "scrolled": true
   },
   "outputs": [],
   "source": [
    "copes=[col for col in big_df.columns if col.startswith('Act')]\n",
    "for col in copes:\n",
    "    r,p=pearsonr(big_df['Composite_Substance'],big_df[col])\n",
    "    print(\"Correlation between %s and Substance Use: \\n R^2 %s p: %s\"%(\n",
    "    col,r**2,p))\n",
    "    sms.lmplot(x='Composite_Substance',y=col,\n",
    "               data=big_df)\n",
    "    plt.show()\n",
    "    #r,p=pearsonr(big_df['Composite_Reward_Squared'],big_df[col])\n",
    "    #print(\"Correlation between %s and Composite Reward: \\n R^2 %s p: %s\"%(\n",
    "    #col,r,p))\n",
    "    #sms.lmplot(x='Composite_Reward',y=col,\n",
    "    #           data=big_df,order=2)\n",
    "    #plt.show()"
   ]
  },
  {
   "cell_type": "markdown",
   "metadata": {},
   "source": [
    "## Interaction with Substance Use\n"
   ]
  },
  {
   "cell_type": "code",
   "execution_count": null,
   "metadata": {},
   "outputs": [],
   "source": [
    "big_df[\"Low_Substance\"] = (big_df.Composite_Substance<df.Composite_Substance.quantile()).replace({True:'Low', False:'High'})"
   ]
  },
  {
   "cell_type": "code",
   "execution_count": null,
   "metadata": {
    "scrolled": true
   },
   "outputs": [],
   "source": [
    "copes=[col for col in big_df.columns if col.startswith('Act')]\n",
    "for col in copes:\n",
    "    r,p=pearsonr(big_df['Composite_Reward'],big_df[col])\n",
    "    print(\"Correlation between %s and Composite Reward: \\n R^2 %s p: %s\"%(\n",
    "    col,r**2,p))\n",
    "    sms.lmplot(x='Composite_Reward',y=col,hue='Low_Substance',\n",
    "               data=big_df)\n",
    "    plt.show()\n",
    "    r,p=pearsonr(big_df['Composite_Reward_Squared'],big_df[col])\n",
    "    print(\"Correlation between %s and Squared Composite Reward: \\n R^2 %s p: %s\"%(\n",
    "    col,r**2,p))\n",
    "    sms.lmplot(x='Composite_Reward',y=col,hue='Low_Substance',\n",
    "               data=big_df,order=2)\n",
    "    plt.show()"
   ]
  },
  {
   "cell_type": "markdown",
   "metadata": {},
   "source": [
    "# PscyhoPhysiological Interactions"
   ]
  },
  {
   "cell_type": "code",
   "execution_count": null,
   "metadata": {
    "scrolled": false
   },
   "outputs": [],
   "source": [
    "cope=15\n",
    "mpfc_coords=[(3,45,-5)]\n",
    "basedir='../derivatives/fsl/L3_model-1_task-mid_n48_flame1/'\n",
    "#print(os.listdir(basedir))\n",
    "res_dir=[basedir+d for d in os.listdir(basedir)if ('ppi'in d) & (f'cnum-{cope:02}_'in d)&('INTs-wInt'in d)]\n",
    "res_dir=res_dir[0]\n",
    "#print(os.listdir(res_dir+'/cope1.feat'))\n",
    "for cope in range(1):\n",
    "    cope=cope+1\n",
    "    display=plotting.plot_stat_map(res_dir+f'/cope1.feat/thresh_zstat{cope}.nii.gz',threshold=6,\n",
    "                           cut_coords=[3,45,-5],draw_cross=False)\n",
    "    display.add_markers(marker_coords=mpfc_coords, marker_color='b',\n",
    "                    marker_size=300)\n",
    "    plt.show()\n",
    "    "
   ]
  },
  {
   "cell_type": "code",
   "execution_count": null,
   "metadata": {},
   "outputs": [],
   "source": [
    "\n",
    "data=[]\n",
    "cope_map={1:'Large Gain', 2: 'Small Gain',\n",
    "          3: 'Large Loss', 4: 'Small Loss', 5: 'Hit',\n",
    "         6:'Miss',7:'Neutral',8:'Gain>Loss',9:'Gain>Neut',\n",
    "         10:'Loss>Neut',11:'Salience',12:'Hit-Miss',\n",
    "          13:'LG-SG',14:'LL-SL'}\n",
    "print(df['Fnames-act'][0])\n",
    "for fname in df['Fnames-act']:\n",
    "    sub=re.search('fsl/(.*)/L',fname).group(1)\n",
    "    level=re.search('sub-..../(.*)_task',fname).group(1)\n",
    "    activations=[]\n",
    "    cope_list=[]\n",
    "    display(sub)\n",
    "    for cope in [8,9,10,11,12,13,14]:\n",
    "        \n",
    "        if level=='L1':\n",
    "            image='%s/%s/L1_task-mid_model-1_type-ppi_seed-NAcc_run-1_sm-.feat/stats/cope%s.nii.gz'%(\n",
    "            fsl_data,sub,cope)\n",
    "        if level=='L2':\n",
    "            image='%s/%s/L2_task-mid_model-1_type-ppi_seed-NAcc.gfeat/cope%s.feat/stats/cope1.nii.gz'%(\n",
    "            fsl_data,sub,cope)\n",
    "        \n",
    "        act_value_array=sphere_masker.fit_transform(image)\n",
    "        act_value=np.mean(act_value_array)\n",
    "        activations.append(act_value)\n",
    "        cope_list.append(cope)\n",
    "    data.append([sub]+activations)\n",
    "\n",
    "conn_df=pd.DataFrame(data=data,columns=['Subject','Conn Gain>Loss','Conn Gain>Neut',\n",
    "         'Conn Loss>Neut','Conn Salience','Conn Hit-Miss','Conn LG-SG','Conn LL-SL'])\n",
    "big_df=pd.merge(big_df,conn_df,on='Subject')\n",
    "display(big_df.head())"
   ]
  },
  {
   "cell_type": "code",
   "execution_count": null,
   "metadata": {},
   "outputs": [],
   "source": [
    "big_df.head()\n",
    "big_df.to_csv(\"For_David_VSAct_ConnOFC_2-46--8.tsv\",sep='\\t',index=False)"
   ]
  },
  {
   "cell_type": "markdown",
   "metadata": {},
   "source": [
    "## Reward Sensitivity and OFC Connections"
   ]
  },
  {
   "cell_type": "code",
   "execution_count": null,
   "metadata": {
    "scrolled": true
   },
   "outputs": [],
   "source": [
    "copes=[col for col in big_df.columns if col.startswith('Conn')]\n",
    "for col in copes:\n",
    "    r,p=pearsonr(big_df['Composite_Reward'],big_df[col])\n",
    "    print(\"Correlation between %s and Composite Reward: \\n R^2 %s p: %s\"%(\n",
    "    col,r,p))\n",
    "    sms.lmplot(x='Composite_Reward',y=col,\n",
    "               data=big_df)\n",
    "    plt.show()\n",
    "    \n",
    "    r,p=pearsonr(big_df['Composite_Reward_Squared'],big_df[col])\n",
    "    print(\"Correlation between %s and Squared Composite Reward: \\n R^2 %s p: %s\"%(\n",
    "    col,r,p))\n",
    "    sms.lmplot(x='Composite_Reward',y=col,\n",
    "               data=big_df,order=2)\n",
    "    plt.show()"
   ]
  },
  {
   "cell_type": "code",
   "execution_count": null,
   "metadata": {},
   "outputs": [],
   "source": []
  },
  {
   "cell_type": "markdown",
   "metadata": {},
   "source": [
    "## Interaction with Substance Use\n"
   ]
  },
  {
   "cell_type": "code",
   "execution_count": null,
   "metadata": {
    "scrolled": true
   },
   "outputs": [],
   "source": [
    "copes=[col for col in big_df.columns if col.startswith('Conn')]\n",
    "for col in copes:\n",
    "    r,p=pearsonr(big_df['Composite_Reward'],big_df[col])\n",
    "    print(\"Correlation between %s and Composite Reward: \\n R^2 %s p: %s\"%(\n",
    "    col,r,p))\n",
    "    sms.lmplot(x='Composite_Reward',y=col,hue='Low_Substance',\n",
    "               data=big_df)\n",
    "    plt.show()\n",
    "    r,p=pearsonr(big_df['Composite_Reward_Squared'],big_df[col])\n",
    "    print(\"Correlation between %s and Squared Composite Reward: \\n R^2 %s p: %s\"%(\n",
    "    col,r,p))\n",
    "    sms.lmplot(x='Composite_Reward',y=col,hue='Low_Substance',\n",
    "               data=big_df,order=2)\n",
    "    plt.show()"
   ]
  },
  {
   "cell_type": "code",
   "execution_count": null,
   "metadata": {},
   "outputs": [],
   "source": [
    "plotting.view_img(res_dir+f'/cope1.feat/thresh_zstat{cope}.nii.gz',threshold=6.5,draw_cross=False)\n"
   ]
  },
  {
   "cell_type": "markdown",
   "metadata": {},
   "source": [
    "## Other Masks\n"
   ]
  },
  {
   "cell_type": "code",
   "execution_count": null,
   "metadata": {
    "scrolled": true
   },
   "outputs": [],
   "source": [
    "import os\n",
    "from scipy.stats import pearsonr, spearmanr\n",
    "masks=['../masks/'+mask for mask in os.listdir('../masks') if mask.startswith('conn_')]\n",
    "#masks=[f for f in masks if 'rightVS_dACC' in f]\n",
    "for mask in masks: # Looping through all of David's requested masks\n",
    "    roi=re.search(\"conn_(.*).nii.gz\",mask).group(1)\n",
    "    print(\"Mask =%s\"%(mask))\n",
    "    plotting.plot_roi(mask,draw_cross=False,cut_coords=[11.5,35.5,-0.5])\n",
    "    vs_masker=input_data.NiftiMasker(mask_img=mask)\n",
    "    plt.show()\n",
    "    \n",
    "    data=[] #looping through all of the connectivity analyses\n",
    "    for fname in df['Fnames-act']:\n",
    "        sub=re.search('fsl/(.*)/L',fname).group(1)\n",
    "        level=re.search('sub-..../(.*)_task',fname).group(1)\n",
    "        activations=[]\n",
    "        cope_list=[]\n",
    "        for cope in [8,9,10,11,12,13,14]:#Looping through all of the contrasts\n",
    "\n",
    "            if level=='L1':#Seperating out if they have only 1 or 2 runs\n",
    "                image='%s/%s/L1_task-mid_model-1_type-ppi_seed-NAcc_run-1_sm-.feat/stats/cope%s.nii.gz'%(\n",
    "                fsl_data,sub,cope)\n",
    "            if level=='L2':\n",
    "                image='%s/%s/L2_task-mid_model-1_type-ppi_seed-NAcc.gfeat/cope%s.feat/stats/cope1.nii.gz'%(\n",
    "                fsl_data,sub,cope)\n",
    "\n",
    "            act_value_array=vs_masker.fit_transform(image)\n",
    "            act_value=np.mean(act_value_array)\n",
    "            activations.append(act_value)\n",
    "            cope_list.append(cope)\n",
    "        data.append([sub]+activations)\n",
    "\n",
    "    conn_df=pd.DataFrame(data=data,columns=['Subject','Conn Gain>Loss','Conn Gain>Neut',\n",
    "             'Conn Loss>Neut','Conn Salience','Conn Hit-Miss','Conn LG-SG','Conn LL-SL'])\n",
    "    big_df.to_csv(\"ForDavid_customMasks_%s.tsv\"%(roi),sep='\\t')\n",
    "    big_df=pd.merge(df,conn_df,on='Subject')\n",
    "    display(big_df.head())\n",
    "    copes=[col for col in big_df.columns if col.startswith('Conn')]\n",
    "    for col in copes:\n",
    "        r,p=pearsonr(big_df['Composite_Reward'],big_df[col])\n",
    "        print(\"Correlation between %s and Composite Reward: \\n R^2 %s p: %s\"%(\n",
    "        col,r**2,p))\n",
    "        sms.lmplot(x='Composite_Reward',y=col,\n",
    "                   data=big_df)\n",
    "        plt.savefig(\"figures/VSConn_mask-%s_Contr-%s.svg\"%(roi,col))\n",
    "        plt.show()\n",
    "\n",
    "        r,p=pearsonr(big_df['Composite_Reward_Squared'],big_df[col])\n",
    "        print(\"Correlation between %s and Squared Composite Reward: \\n R^2 %s p: %s\"%(\n",
    "        col,r**2,p))\n",
    "        sms.lmplot(x='Composite_Reward',y=col,\n",
    "                   data=big_df,order=2)\n",
    "        plt.show()"
   ]
  },
  {
   "cell_type": "code",
   "execution_count": null,
   "metadata": {},
   "outputs": [],
   "source": [
    "masks=['../masks/'+mask for mask in os.listdir('../masks') if mask.startswith('conn_')]\n",
    "print(masks)\n"
   ]
  },
  {
   "cell_type": "code",
   "execution_count": null,
   "metadata": {},
   "outputs": [],
   "source": [
    "masks"
   ]
  },
  {
   "cell_type": "code",
   "execution_count": null,
   "metadata": {},
   "outputs": [],
   "source": []
  }
 ],
 "metadata": {
  "kernelspec": {
   "display_name": "Python 3 (ipykernel)",
   "language": "python",
   "name": "python3"
  },
  "language_info": {
   "codemirror_mode": {
    "name": "ipython",
    "version": 3
   },
   "file_extension": ".py",
   "mimetype": "text/x-python",
   "name": "python",
   "nbconvert_exporter": "python",
   "pygments_lexer": "ipython3",
   "version": "3.11.3"
  }
 },
 "nbformat": 4,
 "nbformat_minor": 4
}
